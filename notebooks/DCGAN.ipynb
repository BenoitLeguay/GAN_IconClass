{
 "cells": [
  {
   "cell_type": "markdown",
   "metadata": {},
   "source": [
    "# Pokemon GAN Training Notebook"
   ]
  },
  {
   "cell_type": "markdown",
   "metadata": {},
   "source": [
    "## **Import libraries**"
   ]
  },
  {
   "cell_type": "markdown",
   "metadata": {},
   "source": [
    "dcgan_pokemon_train_1: label_smoothing: False <br>\n",
    "dcgan_pokemon_train_2: label_smoothing: True <br>\n",
    "dcgan_pokemon_train_3: label_smoothing: False <br>\n",
    "dcgan_pokemon_train_4: label_smoothing: True <br>\n",
    "dcgan_pokemon_train_5: label_smoothing: False <br>\n",
    "dcgan_pokemon_train_6: label_smoothing: True <br>\n",
    "dcgan_pokemon_train_7: label_smoothing: False <br>\n",
    "dcgan_pokemon_train_8: label_smoothing: True <br>"
   ]
  },
  {
   "cell_type": "code",
   "execution_count": 1,
   "metadata": {},
   "outputs": [],
   "source": [
    "import sys\n",
    "sys.path.append('../sources')"
   ]
  },
  {
   "cell_type": "code",
   "execution_count": 2,
   "metadata": {},
   "outputs": [],
   "source": [
    "import pandas as pd\n",
    "import numpy as np\n",
    "import torch\n",
    "import utils as ut\n",
    "import variable as var\n",
    "import os\n",
    "import matplotlib.pyplot as plt\n",
    "\n",
    "from torch.utils.data import DataLoader\n",
    "from torchvision import transforms\n",
    "from dataset import PokemonGensDataset\n",
    "from DCGAN import DCGAN\n",
    "import cuda_monitoring as cuda_mon"
   ]
  },
  {
   "cell_type": "code",
   "execution_count": 3,
   "metadata": {},
   "outputs": [],
   "source": [
    "import torchvision.utils as vutils"
   ]
  },
  {
   "cell_type": "code",
   "execution_count": 4,
   "metadata": {},
   "outputs": [
    {
     "name": "stderr",
     "output_type": "stream",
     "text": [
      "/home/benoit/anaconda3/lib/python3.7/site-packages/torch/distributed/distributed_c10d.py:144: UserWarning: torch.distributed.reduce_op is deprecated, please use torch.distributed.ReduceOp instead\n",
      "  warnings.warn(\"torch.distributed.reduce_op is deprecated, please use \"\n"
     ]
    },
    {
     "name": "stdout",
     "output_type": "stream",
     "text": [
      "total    : 7.77 GB\n",
      "free     : 5.73 GB\n",
      "used     : 2.05 GB\t(35.73%)\n"
     ]
    }
   ],
   "source": [
    "cuda_mon.get_tensor_info()\n",
    "cuda_mon.get_gpu_memory_info()"
   ]
  },
  {
   "cell_type": "markdown",
   "metadata": {},
   "source": [
    "## **Load DATASET**"
   ]
  },
  {
   "cell_type": "code",
   "execution_count": 23,
   "metadata": {},
   "outputs": [
    {
     "name": "stdout",
     "output_type": "stream",
     "text": [
      "Greyscale: False\n",
      "Real: 64x64 images\n",
      "Fake: 64x64 images\n"
     ]
    }
   ],
   "source": [
    "resume_training = True\n",
    "train_number = 'n_feature_16' #normal_weight_init\n",
    "gan_id = f\"dcgan_pokemon_train_{train_number}\"\n",
    "\n",
    "greyscale = False\n",
    "resize_image_dim = 64\n",
    "n_conv_block = 3\n",
    "batch_size = 64\n",
    "normalize_input = 'min_max_scale'\n",
    "\n",
    "print(f\"Greyscale: {greyscale}\")\n",
    "print(f\"Real: {resize_image_dim}x{resize_image_dim} images\")\n",
    "print(f\"Fake: {2**(3 + n_conv_block)}x{2**(3 + n_conv_block)} images\")"
   ]
  },
  {
   "cell_type": "code",
   "execution_count": 24,
   "metadata": {},
   "outputs": [
    {
     "name": "stdout",
     "output_type": "stream",
     "text": [
      "dataset: 4244 images\n"
     ]
    }
   ],
   "source": [
    "dset = PokemonGensDataset(greyscale=greyscale, normalize=normalize_input,\n",
    "                          resize=[resize_image_dim, resize_image_dim],\n",
    "                          gens_to_remove=(\"gen8\", \"gen7\", \"gen6\", 'gen1'))\n",
    "dloader = DataLoader(dset, batch_size=batch_size, shuffle=True, num_workers=0)\n",
    "print(f'dataset: {len(dset)} images')"
   ]
  },
  {
   "cell_type": "code",
   "execution_count": 25,
   "metadata": {
    "scrolled": true
   },
   "outputs": [
    {
     "data": {
      "image/png": "[encoded data removed]",
      "text/plain": [
       "<Figure size 432x288 with 1 Axes>"
      ]
     },
     "metadata": {
      "needs_background": "light"
     },
     "output_type": "display_data"
    }
   ],
   "source": [
    "images, labels = next(iter(dloader))\n",
    "ut.show_images_grid(images, 1)"
   ]
  },
  {
   "cell_type": "markdown",
   "metadata": {},
   "source": [
    "## **GAN Component**"
   ]
  },
  {
   "cell_type": "code",
   "execution_count": 27,
   "metadata": {},
   "outputs": [],
   "source": [
    "gen_lr = 1e-3\n",
    "disc_lr = 1e-3\n",
    "beta1 = .9\n",
    "beta2 = .999\n",
    "betas = {'1': beta1, '2': beta2}\n",
    "n_channel = 1 if greyscale else 3\n",
    "n_feature = 16\n",
    "z_dim = 60\n",
    "use_inception = True\n",
    "label_smoothing = True\n",
    "generator_type = 'convtranspose'\n",
    "\n",
    "    \n",
    "params = {'gen': {'n_feature': n_feature,\n",
    "                  'n_channel': n_channel,\n",
    "                  'lr': gen_lr,\n",
    "                  'betas': betas},\n",
    "          'disc': {'n_channel': n_channel,\n",
    "                   'n_feature': n_feature,\n",
    "                   'lr': disc_lr,\n",
    "                   'betas': betas},\n",
    "          'output_size': resize_image_dim,\n",
    "          'z_dim': z_dim,\n",
    "          'n_conv_block': n_conv_block,\n",
    "          'dataset': dset.describe(),\n",
    "          'batch_size': batch_size,\n",
    "          'label_smoothing': label_smoothing,\n",
    "          'use_inception': use_inception,\n",
    "          'generator_type': generator_type,\n",
    "          'noise_distrib': 'gaussian'\n",
    "         }"
   ]
  },
  {
   "cell_type": "markdown",
   "metadata": {},
   "source": [
    "## **GAN INIT AND TRAINING**"
   ]
  },
  {
   "cell_type": "code",
   "execution_count": 28,
   "metadata": {},
   "outputs": [
    {
     "name": "stdout",
     "output_type": "stream",
     "text": [
      "RESUMING TRAINING...\n",
      "id: dcgan_pokemon_train_n_feature_16\n"
     ]
    }
   ],
   "source": [
    "gan = DCGAN(params, normal_weight_init=True)\n",
    "checkpoint_path = os.path.join(var.PROJECT_DIR, f'data/models/{gan_id}.pth')\n",
    "if os.path.exists(checkpoint_path):\n",
    "    print('RESUMING TRAINING...')\n",
    "    gan.load_model(checkpoint_path)\n",
    "else:\n",
    "    print('NEW TRAINING...')\n",
    "print(f'id: {gan_id}')"
   ]
  },
  {
   "cell_type": "code",
   "execution_count": 29,
   "metadata": {},
   "outputs": [],
   "source": [
    "gan.init_tensorboard(main_dir='runs', subdir=gan_id, port=8008)"
   ]
  },
  {
   "cell_type": "code",
   "execution_count": 30,
   "metadata": {
    "scrolled": true
   },
   "outputs": [
    {
     "name": "stderr",
     "output_type": "stream",
     "text": [
      "100%|██████████| 3/3 [00:14<00:00,  4.77s/it]\n"
     ]
    }
   ],
   "source": [
    "gan.train(n_epoch=3, dataloader=dloader, gan_id=gan_id)"
   ]
  },
  {
   "cell_type": "markdown",
   "metadata": {},
   "source": [
    "## **RESULT VIZUALIZATION**"
   ]
  },
  {
   "cell_type": "code",
   "execution_count": 27,
   "metadata": {
    "scrolled": false
   },
   "outputs": [
    {
     "name": "stdout",
     "output_type": "stream",
     "text": [
      "0.4285416305065155\n"
     ]
    },
    {
     "data": {
      "image/png": "[encoded data removed]",
      "text/plain": [
       "<Figure size 432x288 with 1 Axes>"
      ]
     },
     "metadata": {
      "needs_background": "light"
     },
     "output_type": "display_data"
    }
   ],
   "source": [
    "n = 1\n",
    "noise = gan.get_random_noise(n)\n",
    "with torch.no_grad():\n",
    "    fakes = gan.generator(noise)\n",
    "print(torch.nn.Sigmoid()(gan.discriminator(fakes)[:n]).item())\n",
    "ut.show_images_grid(fakes)"
   ]
  },
  {
   "cell_type": "code",
   "execution_count": 13,
   "metadata": {},
   "outputs": [],
   "source": [
    "from matplotlib.lines import Line2D\n",
    "\n",
    "def plot_grad_flow(named_parameters):\n",
    "    '''Plots the gradients flowing through different layers in the net during training.\n",
    "    Can be used for checking for possible gradient vanishing / exploding problems.\n",
    "    \n",
    "    Usage: Plug this function in Trainer class after loss.backwards() as \n",
    "    \"plot_grad_flow(self.model.named_parameters())\" to visualize the gradient flow'''\n",
    "    ave_grads = []\n",
    "    max_grads= []\n",
    "    layers = []\n",
    "    max_max_grad = 0.0\n",
    "    for n, p in named_parameters:\n",
    "        if(p.requires_grad) and (\"bias\" not in n):\n",
    "            max_grad = p.grad.abs().max()\n",
    "            layers.append(n)\n",
    "            ave_grads.append(p.grad.abs().mean())\n",
    "            max_grads.append(max_grad)\n",
    "            max_max_grad = max_grad.item() if max_grad.item() > max_max_grad else max_max_grad\n",
    "    plt.bar(np.arange(len(max_grads)), max_grads, alpha=0.1, lw=1, color=\"c\")\n",
    "    plt.bar(np.arange(len(max_grads)), ave_grads, alpha=0.1, lw=1, color=\"b\")\n",
    "    plt.hlines(0, 0, len(ave_grads)+1, lw=2, color=\"k\" )\n",
    "    plt.xticks(range(0,len(ave_grads), 1), layers, rotation=\"vertical\")\n",
    "    plt.xlim(left=0, right=len(ave_grads))\n",
    "    plt.ylim(bottom = -0.001, top=.1) # zoom in on the lower gradient regions\n",
    "    plt.xlabel(\"Layers\")\n",
    "    plt.ylabel(\"average gradient\")\n",
    "    plt.title(\"Gradient flow\")\n",
    "    plt.grid(True)\n",
    "    plt.legend([Line2D([0], [0], color=\"c\", lw=4),\n",
    "                Line2D([0], [0], color=\"b\", lw=4),\n",
    "                Line2D([0], [0], color=\"k\", lw=4)], ['max-gradient', 'mean-gradient', 'zero-gradient'])\n",
    "    print(max_grads)"
   ]
  },
  {
   "cell_type": "code",
   "execution_count": 40,
   "metadata": {},
   "outputs": [
    {
     "name": "stdout",
     "output_type": "stream",
     "text": [
      "[tensor(1.0946, device='cuda:0'), tensor(0.6593, device='cuda:0'), tensor(0.6367, device='cuda:0'), tensor(1.0211, device='cuda:0'), tensor(0.6921, device='cuda:0'), tensor(1.3243, device='cuda:0'), tensor(0.5580, device='cuda:0'), tensor(1.8684, device='cuda:0'), tensor(0.6073, device='cuda:0')]\n"
     ]
    },
    {
     "data": {
      "image/png": "[encoded data removed]",
      "text/plain": [
       "<Figure size 432x288 with 1 Axes>"
      ]
     },
     "metadata": {
      "needs_background": "light"
     },
     "output_type": "display_data"
    }
   ],
   "source": [
    "plot_grad_flow(gan.generator.named_parameters())"
   ]
  },
  {
   "cell_type": "code",
   "execution_count": 20,
   "metadata": {},
   "outputs": [],
   "source": [
    "if False:\n",
    "    ut.delete_gans_id(gan_id)"
   ]
  },
  {
   "cell_type": "code",
   "execution_count": 12,
   "metadata": {},
   "outputs": [],
   "source": [
    "def MMD(x, y, kernel):\n",
    "    \"\"\"Emprical maximum mean discrepancy. The lower the result\n",
    "       the more evidence that distributions are the same.\n",
    "\n",
    "    Args:\n",
    "        x: first sample, distribution P\n",
    "        y: second sample, distribution Q\n",
    "        kernel: kernel type such as \"multiscale\" or \"rbf\"\n",
    "    \"\"\"\n",
    "    xx, yy, zz = torch.mm(x, x.t()), torch.mm(y, y.t()), torch.mm(x, y.t())\n",
    "    rx = (xx.diag().unsqueeze(0).expand_as(xx))\n",
    "    ry = (yy.diag().unsqueeze(0).expand_as(yy))\n",
    "    \n",
    "    dxx = rx.t() + rx - 2. * xx # Used for A in (1)\n",
    "    dyy = ry.t() + ry - 2. * yy # Used for B in (1)\n",
    "    dxy = rx.t() + ry - 2. * zz # Used for C in (1)\n",
    "    \n",
    "    XX, YY, XY = (torch.zeros(xx.shape).to(var.device),\n",
    "                  torch.zeros(xx.shape).to(var.device),\n",
    "                  torch.zeros(xx.shape).to(var.device))\n",
    "    \n",
    "    if kernel == \"multiscale\":\n",
    "        \n",
    "        bandwidth_range = [0.2, 0.5, 0.9, 1.3]\n",
    "        for a in bandwidth_range:\n",
    "            XX += a**2 * (a**2 + dxx)**-1\n",
    "            YY += a**2 * (a**2 + dyy)**-1\n",
    "            XY += a**2 * (a**2 + dxy)**-1\n",
    "            \n",
    "    if kernel == \"rbf\":\n",
    "      \n",
    "        bandwidth_range = [10, 15, 20, 50]\n",
    "        for a in bandwidth_range:\n",
    "            XX += torch.exp(-0.5*dxx/a)\n",
    "            YY += torch.exp(-0.5*dyy/a)\n",
    "            XY += torch.exp(-0.5*dxy/a)\n",
    "      \n",
    "      \n",
    "\n",
    "    return torch.mean(XX + YY - 2. * XY)\n"
   ]
  },
  {
   "cell_type": "code",
   "execution_count": 13,
   "metadata": {},
   "outputs": [],
   "source": [
    "real_1 = next(iter(dloader))[0].reshape(64, -1).to(var.device)\n",
    "real_2 = next(iter(dloader))[0].reshape(64, -1).to(var.device)\n",
    "fake_1 = gan.generate_fake(64, train=False).reshape(64, -1)\n",
    "fake_2 = gan.generate_fake(64, train=False).reshape(64, -1)"
   ]
  },
  {
   "cell_type": "code",
   "execution_count": 20,
   "metadata": {},
   "outputs": [
    {
     "data": {
      "text/plain": [
       "tensor(4.0611, device='cuda:0')"
      ]
     },
     "execution_count": 20,
     "metadata": {},
     "output_type": "execute_result"
    }
   ],
   "source": [
    "MMD(real_2, fake_1, \"rbf\")"
   ]
  },
  {
   "cell_type": "code",
   "execution_count": 20,
   "metadata": {},
   "outputs": [
    {
     "data": {
      "text/plain": [
       "tensor([[[[ 0.2095]],\n",
       "\n",
       "         [[ 0.6231]],\n",
       "\n",
       "         [[ 0.1341]],\n",
       "\n",
       "         ...,\n",
       "\n",
       "         [[-0.6994]],\n",
       "\n",
       "         [[ 0.3988]],\n",
       "\n",
       "         [[-0.3985]]],\n",
       "\n",
       "\n",
       "        [[[-0.2500]],\n",
       "\n",
       "         [[-0.6695]],\n",
       "\n",
       "         [[ 0.6322]],\n",
       "\n",
       "         ...,\n",
       "\n",
       "         [[ 0.9828]],\n",
       "\n",
       "         [[ 0.6312]],\n",
       "\n",
       "         [[ 0.9429]]],\n",
       "\n",
       "\n",
       "        [[[-0.2352]],\n",
       "\n",
       "         [[-0.7346]],\n",
       "\n",
       "         [[-0.8679]],\n",
       "\n",
       "         ...,\n",
       "\n",
       "         [[-0.5183]],\n",
       "\n",
       "         [[ 0.2686]],\n",
       "\n",
       "         [[ 0.4509]]],\n",
       "\n",
       "\n",
       "        ...,\n",
       "\n",
       "\n",
       "        [[[ 0.5306]],\n",
       "\n",
       "         [[-0.8427]],\n",
       "\n",
       "         [[-0.8874]],\n",
       "\n",
       "         ...,\n",
       "\n",
       "         [[-0.8960]],\n",
       "\n",
       "         [[-0.6557]],\n",
       "\n",
       "         [[ 0.9227]]],\n",
       "\n",
       "\n",
       "        [[[ 0.6746]],\n",
       "\n",
       "         [[ 0.7623]],\n",
       "\n",
       "         [[ 0.0314]],\n",
       "\n",
       "         ...,\n",
       "\n",
       "         [[ 0.7947]],\n",
       "\n",
       "         [[-0.5600]],\n",
       "\n",
       "         [[-0.6985]]],\n",
       "\n",
       "\n",
       "        [[[-0.7437]],\n",
       "\n",
       "         [[ 0.1520]],\n",
       "\n",
       "         [[ 0.7761]],\n",
       "\n",
       "         ...,\n",
       "\n",
       "         [[-0.3378]],\n",
       "\n",
       "         [[-0.8125]],\n",
       "\n",
       "         [[-0.0864]]]])"
      ]
     },
     "execution_count": 20,
     "metadata": {},
     "output_type": "execute_result"
    }
   ],
   "source": []
  },
  {
   "cell_type": "code",
   "execution_count": null,
   "metadata": {},
   "outputs": [],
   "source": []
  }
 ],
 "metadata": {
  "kernelspec": {
   "display_name": "Python 3",
   "language": "python",
   "name": "python3"
  },
  "language_info": {
   "codemirror_mode": {
    "name": "ipython",
    "version": 3
   },
   "file_extension": ".py",
   "mimetype": "text/x-python",
   "name": "python",
   "nbconvert_exporter": "python",
   "pygments_lexer": "ipython3",
   "version": "3.7.6"
  }
 },
 "nbformat": 4,
 "nbformat_minor": 4
}
