{
 "cells": [
  {
   "cell_type": "code",
   "execution_count": 1,
   "id": "patent-springfield",
   "metadata": {},
   "outputs": [],
   "source": [
    "import sys\n",
    "sys.path.append('../sources')"
   ]
  },
  {
   "cell_type": "code",
   "execution_count": 2,
   "id": "collaborative-encyclopedia",
   "metadata": {},
   "outputs": [],
   "source": [
    "import pandas as pd\n",
    "import numpy as np\n",
    "import torch\n",
    "import utils as ut\n",
    "import variable as var\n",
    "import os\n",
    "import matplotlib.pyplot as plt\n",
    "\n",
    "from torch.utils.data import DataLoader\n",
    "from torchvision import transforms\n",
    "from dataset import PokemonGensDataset\n",
    "from WGAN import train\n",
    "import cuda_monitoring as cuda_mon"
   ]
  },
  {
   "cell_type": "code",
   "execution_count": null,
   "id": "available-germany",
   "metadata": {},
   "outputs": [],
   "source": []
  }
 ],
 "metadata": {
  "kernelspec": {
   "display_name": "Python 3",
   "language": "python",
   "name": "python3"
  },
  "language_info": {
   "codemirror_mode": {
    "name": "ipython",
    "version": 3
   },
   "file_extension": ".py",
   "mimetype": "text/x-python",
   "name": "python",
   "nbconvert_exporter": "python",
   "pygments_lexer": "ipython3",
   "version": "3.7.6"
  }
 },
 "nbformat": 4,
 "nbformat_minor": 5
}
